{
 "cells": [
  {
   "cell_type": "markdown",
   "source": [
    "# Class Declaration\n",
    "Author: Juan Andrés Povea Fernández\n",
    "Reference: https://pythondiario.com/2018/07/linked-list-listas-enlazadas.html#google_vignette"
   ],
   "metadata": {
    "collapsed": false
   }
  },
  {
   "cell_type": "code",
   "execution_count": 17,
   "outputs": [],
   "source": [
    "class Node:\n",
    "\n",
    "    def __init__(self, data: object, next_node: \"Node\" = None) -> None:\n",
    "        self.data = data\n",
    "        self.next_node = next_node"
   ],
   "metadata": {
    "collapsed": false
   }
  },
  {
   "cell_type": "code",
   "execution_count": 95,
   "outputs": [],
   "source": [
    "class List:\n",
    "\n",
    "    def __init__(self) -> None:\n",
    "        self.first_node = None\n",
    "\n",
    "    def add_in_front(self, data:object) -> None:\n",
    "        self.first_node = Node(data, self.first_node)\n",
    "\n",
    "    def is_empty(self) -> bool:\n",
    "        return self.first_node is None\n",
    "\n",
    "    def add_at_end(self, data:object) -> None:\n",
    "\n",
    "        if self.first_node is None:\n",
    "            self.first_node = Node(data, None) # We pass None because there aren't more elements\n",
    "        else:\n",
    "            current_node = self.first_node\n",
    "            while current_node.next_node is not None:\n",
    "                # We iterate through each node until there aren't more and .next_node is None\n",
    "                current_node = current_node.next_node\n",
    "\n",
    "            current_node.next_node = Node(data, None)\n",
    "\n",
    "    def delete_node(self, value) -> None:\n",
    "        current_node = self.first_node\n",
    "        previous_node = None\n",
    "\n",
    "        while current_node and current_node.data != value:\n",
    "            previous_node = current_node\n",
    "            current_node = current_node.next_node\n",
    "        if previous_node is None:\n",
    "            self.first_node = current_node.next_node\n",
    "        elif current_node:\n",
    "            previous_node.next_node = current_node.next_node\n",
    "            current_node.next_node = None\n",
    "\n",
    "    def get_last_node(self) -> \"Node\":\n",
    "        last_node = self.first_node # We set as first value the first element in the list\n",
    "\n",
    "        # And then we iterate each node\n",
    "        while last_node.next_node is not None:\n",
    "            last_node = last_node.next_node\n",
    "\n",
    "        return last_node\n",
    "\n",
    "    def print_list(self) -> None:\n",
    "        node = self.first_node\n",
    "\n",
    "        while node is not None:\n",
    "            print(node.data, \"-> \" , end= \" \")\n",
    "            node = node.next_node\n"
   ],
   "metadata": {
    "collapsed": false
   }
  },
  {
   "cell_type": "markdown",
   "source": [
    "### Ejercicio 1: Realizar un programa que inicialice una lista con 10 valores aleatorios (del 1 al 10) y posteriormente muestre en pantalla cada elemento de la lista junto con su cuadrado y su cubo."
   ],
   "metadata": {
    "collapsed": false
   }
  },
  {
   "cell_type": "code",
   "execution_count": 65,
   "outputs": [
    {
     "name": "stdout",
     "output_type": "stream",
     "text": [
      "Conventional python lists execution time: 999200 nanoseconds\n"
     ]
    }
   ],
   "source": [
    "import random\n",
    "import time as timer\n",
    "\n",
    "#1. Solution using python default lists\n",
    "start_time = timer.time_ns()\n",
    "numbers_list = []\n",
    "\n",
    "for index in range(1,11):\n",
    "\tnumbers_list.append(random.randint(1,10))\n",
    "\n",
    "#for number in numbers_list:\n",
    "\t#print(numero,\" \",numero ** 2,\" \",numero ** 3)\n",
    "end_time = timer.time_ns()\n",
    "execution_time = (end_time - start_time)\n",
    "\n",
    "print(f\"Conventional python lists execution time: {execution_time} nanoseconds\")"
   ],
   "metadata": {
    "collapsed": false
   }
  },
  {
   "cell_type": "code",
   "execution_count": 71,
   "outputs": [
    {
     "name": "stdout",
     "output_type": "stream",
     "text": [
      "Custom classes (node and list) execution time: 1000500 nanoseconds\n"
     ]
    }
   ],
   "source": [
    "#2. Same solution, but with my classes\n",
    "\n",
    "start_time = timer.time_ns()\n",
    "numbers_list = List()\n",
    "# First we fill the list with numbers\n",
    "for index in range(1,11):\n",
    "\tnumbers_list.add_at_end(random.randint(1,10)) # Equivalent to list.append()\n",
    "\n",
    "# And finally, we print all the numbers\n",
    "#node = numbers_list.first_node\n",
    "#while node is not None:\n",
    "    #print(f\"Number: {node.data} -> Number^2: {node.data ** 2} -> Number^3: {node.data ** 3}\")\n",
    "   # node = node.next_node\n",
    "\n",
    "end_time = timer.time_ns()\n",
    "execution_time = (end_time - start_time)\n",
    "\n",
    "print(f\"Custom classes (node and list) execution time: {execution_time} nanoseconds\")"
   ],
   "metadata": {
    "collapsed": false
   }
  },
  {
   "cell_type": "markdown",
   "source": [
    " As we can see in the examples above, the execution time of our solution is higher\n",
    "\n",
    "Note: We commented the part where we print the elements of the list because we don't care about the time the program takes to print everything, but the time it takes to interconnect all the nodes to make the list"
   ],
   "metadata": {
    "collapsed": false
   }
  },
  {
   "cell_type": "markdown",
   "source": [
    "### Ejercicio 2: Crear una lista e inicializarla con 5 cadenas de caracteres leídas por teclado. Copiar los elementos de la lista en otra lista pero en orden inverso, y mostrar sus elementos por la pantalla."
   ],
   "metadata": {
    "collapsed": false
   }
  },
  {
   "cell_type": "code",
   "execution_count": 73,
   "outputs": [
    {
     "name": "stdout",
     "output_type": "stream",
     "text": [
      "Conventional python lists execution time: 2325480700 nanoseconds\n"
     ]
    }
   ],
   "source": [
    "#1. Solution using conventional python lists\n",
    "start_time = timer.time_ns()\n",
    "list1 = []\n",
    "list2 = []\n",
    "\n",
    "for index in range(1,6):\n",
    "\tlist1.append(input(\"Dame la cadena %d:\" % index))\n",
    "\n",
    "list2 = list1[::-1]\n",
    "end_time = timer.time_ns()\n",
    "\n",
    "execution_time = (end_time - start_time)\n",
    "\n",
    "print(f\"Conventional python lists execution time: {execution_time} nanoseconds\")"
   ],
   "metadata": {
    "collapsed": false
   }
  },
  {
   "cell_type": "code",
   "execution_count": 76,
   "outputs": [
    {
     "name": "stdout",
     "output_type": "stream",
     "text": [
      "Custom classes (node and list) execution time: 2336439000 nanoseconds\n"
     ]
    }
   ],
   "source": [
    "#2. Solution using my classes\n",
    "\n",
    "# First, we create our two lists\n",
    "start_time = timer.time_ns()\n",
    "list = List()\n",
    "reversed_list = List()\n",
    "# After that, let's request the 5 char sequences\n",
    "for index in range(1,6):\n",
    "\tlist.add_at_end(input(f\"Please type the char sequence #{index}: \"))\n",
    "\n",
    "node = list.first_node\n",
    "while node is not None:\n",
    "    # Basically here we put the next element to be added to the list in front of the other ones\n",
    "    reversed_list.add_in_front(node.data)\n",
    "    node = node.next_node\n",
    "\n",
    "end_time = timer.time_ns()\n",
    "\n",
    "#reversed_list.print_list()\n",
    "execution_time = (end_time - start_time)\n",
    "print(f\"Custom classes (node and list) execution time: {execution_time} nanoseconds\")"
   ],
   "metadata": {
    "collapsed": false
   }
  },
  {
   "cell_type": "markdown",
   "source": [
    "Just like before, the execution time in our solution is a little higher than the python list solution. Maybe this can be caused due to how we connect the nodes using cycles and not, for example, recursivity"
   ],
   "metadata": {
    "collapsed": false
   }
  },
  {
   "cell_type": "markdown",
   "source": [
    "### Ejercicio 3: Programa que declare una lista y la vaya llenando de números hasta que introduzcamos un número negativo. Entonces se debe imprimir el vector (sólo los elementos introducidos)."
   ],
   "metadata": {
    "collapsed": false
   }
  },
  {
   "cell_type": "code",
   "execution_count": 82,
   "outputs": [
    {
     "name": "stdout",
     "output_type": "stream",
     "text": [
      "Conventional python lists execution time: 1143304800 nanoseconds\n"
     ]
    }
   ],
   "source": [
    "#1. Conventional solutiong using python lists\n",
    "start_time = timer.time_ns()\n",
    "numbers_list = []\n",
    "number = int(input(\"Insert a number in the list: \"))\n",
    "while number>=0:\n",
    "\tnumbers_list.append(number)\n",
    "\tnumber = int(input(\"Insert a number in the list: \"))\n",
    "\n",
    "#for number in numbers_list:\n",
    "#\tprint(number,\" \",end=\"\")\n",
    "end_time = timer.time_ns()\n",
    "\n",
    "execution_time = (end_time - start_time)\n",
    "\n",
    "print(f\"Conventional python lists execution time: {execution_time} nanoseconds\")"
   ],
   "metadata": {
    "collapsed": false
   }
  },
  {
   "cell_type": "code",
   "execution_count": 85,
   "outputs": [
    {
     "name": "stdout",
     "output_type": "stream",
     "text": [
      "Custom classes (node and list) execution time: 1304093800 nanoseconds\n"
     ]
    }
   ],
   "source": [
    "#2. Solution using my classes\n",
    "start_time = timer.time_ns()\n",
    "numbers_list = List()\n",
    "number = int(input(\"Insert a number in the list: \"))\n",
    "while number>=0:\n",
    "\tnumbers_list.add_at_end(number)\n",
    "\tnumber = int(input(\"Insert a number in the list: \"))\n",
    "end_time = timer.time_ns()\n",
    "\n",
    "#numbers_list.print_list()\n",
    "execution_time = (end_time - start_time)\n",
    "print(f\"Custom classes (node and list) execution time: {execution_time} nanoseconds\")\n",
    "\n"
   ],
   "metadata": {
    "collapsed": false
   }
  },
  {
   "cell_type": "markdown",
   "source": [
    "And finally, we can see that we still get higher values. As i said before, there can be many factors that influence in the execution time of our solution like how we connect each node by cycles, our pc hardware and etc"
   ],
   "metadata": {
    "collapsed": false
   }
  }
 ],
 "metadata": {
  "kernelspec": {
   "display_name": "Python 3",
   "language": "python",
   "name": "python3"
  },
  "language_info": {
   "codemirror_mode": {
    "name": "ipython",
    "version": 2
   },
   "file_extension": ".py",
   "mimetype": "text/x-python",
   "name": "python",
   "nbconvert_exporter": "python",
   "pygments_lexer": "ipython2",
   "version": "2.7.6"
  }
 },
 "nbformat": 4,
 "nbformat_minor": 0
}
